{
 "cells": [
  {
   "cell_type": "markdown",
   "metadata": {},
   "source": [
    "# Data Dictionary\n",
    "___\n",
    "cards_cleaned.csv"
   ]
  },
  {
   "cell_type": "markdown",
   "metadata": {},
   "source": [
    "| Column Name            | Type   | Description                                                                                                                                                    |\n",
    "|------------------------|--------|----------------------------------------------------------------------------------------------------------------------------------------------------------------|\n",
    "| name                   | object | card name                                                                                                                                                      |\n",
    "| layout                 | object | code for card's layout (i.e. split: A split-faced card, normal: A standard card with one face)                                                                 |\n",
    "| colors                 | object | colors of the card (['W'] : white, ['B'] : black, ['R'] : red, ['G'] : green, ['U'] : blue, [] : colorless)                                                    |\n",
    "| color_identity         | object | color identity of the card (['W'] : white, ['B'] : black, ['R'] : red, ['G'] : green, ['U'] : blue, [] : colorless)                                            |\n",
    "| mana_cost              | object | mana cost for the card ('NONE' is different from {0} as per magic rules)                                                                                       |\n",
    "| cmc                    | float  | converted mana cost                                                                                                                                            |\n",
    "| type_line              | object | type line of the card                                                                                                                                          |\n",
    "| card_type              | object | type of card (i.e. instant, creature, sorcery, etc)                                                                                                            |\n",
    "| super_type             | object | super types include: Legendary, Snow, World, and Basic (NONE for cards with no super type)                                                                     |\n",
    "| sub_type               | object | characteristic of a card (i.e. human, aura, spirit, elf, etc. NONE for cards with no sub type)                                                                 |\n",
    "| oracle_text            | object | oracle text for a card, NONE for a card with no oracle text (vanilla creatures)                                                                                |\n",
    "| oracle_text_token      | object | tokenized version of the oracle text, NONE for a card with no oracle text (vanilla creatures)                                                                  |\n",
    "| legalities             | object | list of formats the card is legal in                                                                                                                           |\n",
    "| rarity                 | object | card rarities include: common, uncommon, rare, and mythic                                                                                                      |\n",
    "| power                  | object | the power on the front half of the card (NONE for cards with no power)                                                                                         |\n",
    "| toughness              | object | the toughness on the front half of the card (NONE for cards with no toughness)                                                                                 |\n",
    "| loyalty                | object | the loyalty on the front half of the card (NONE for cards with no loyalty)                                                                                     |\n",
    "| activated_ability      | float  | 1 if the card has an activated ability                                                                                                                         |\n",
    "| triggered_ability      | float  | 1 if the card has a triggered ability                                                                                                                          |\n",
    "| oracle_text_back       | object | oracle text on back half of the card, NONE for a card with no oracle text on the back half of the card                                                         |\n",
    "| oracle_text_back_token | object | tokenized version of the oracle text on the back half of the card. NONE for a card with no oracle text on the back half of the card                            |\n",
    "| colors_back            | object | colors of the back half of the card (['W'] : white, ['B'] : black, ['R'] : red, ['G'] : green, ['U'] : blue, [] : colorless, NONE for cards with no back half) |\n",
    "| power_back             | object | the power on the back half of the card (NONE for cards with no power on the back half)                                                                         |\n",
    "| toughness_back         | object | the toughness on the back half of the card (NONE for cards with no toughness on the back half)                                                                 |\n",
    "| loyalty_back           | object | the loyalty on the back half of the card (NONE for cards with no loyalty on the back half)                                                                     |\n",
    "| card_type_back         | object | type of card for the back half(i.e. instant, creature, sorcery, etc)                                                                                           |\n",
    "| super_type_back        | object | super types include: Legendary, Snow, World, and Basic (NONE for cards with no super type)                                                                     |\n",
    "| sub_type_back          | object | characteristic of the back half of the card (i.e. human, aura, spirit, elf, etc. NONE for cards with no sub type)                                              |\n",
    "| mana_cost_back         | object | mana cost for the card ('NONE' is different from {0} as per magic rules)                                                                                       |\n",
    "| scryfall_uri           | object | link to card on scryfall.com                                                                                                                                   |"
   ]
  }
 ],
 "metadata": {
  "kernelspec": {
   "display_name": "Python 3",
   "language": "python",
   "name": "python3"
  },
  "language_info": {
   "codemirror_mode": {
    "name": "ipython",
    "version": 3
   },
   "file_extension": ".py",
   "mimetype": "text/x-python",
   "name": "python",
   "nbconvert_exporter": "python",
   "pygments_lexer": "ipython3",
   "version": "3.7.3"
  }
 },
 "nbformat": 4,
 "nbformat_minor": 2
}
