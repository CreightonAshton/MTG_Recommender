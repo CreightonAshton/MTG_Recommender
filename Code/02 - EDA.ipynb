{
 "cells": [
  {
   "cell_type": "markdown",
   "metadata": {},
   "source": [
    "# 02 - EDA\n",
    "___"
   ]
  },
  {
   "cell_type": "code",
   "execution_count": 1,
   "metadata": {},
   "outputs": [],
   "source": [
    "# imports\n",
    "import pandas as pd\n",
    "import numpy as np\n",
    "import matplotlib.pyplot as plt\n",
    "import seaborn as sns\n",
    "import gensim\n",
    "import time\n",
    "\n",
    "from nltk.corpus import stopwords\n",
    "from datetime import datetime\n",
    "from sklearn.manifold import TSNE\n",
    "\n",
    "pd.options.display.max_columns = 35"
   ]
  },
  {
   "cell_type": "markdown",
   "metadata": {},
   "source": [
    "## Word2Vec"
   ]
  },
  {
   "cell_type": "code",
   "execution_count": 2,
   "metadata": {
    "scrolled": false
   },
   "outputs": [
    {
     "data": {
      "text/html": [
       "<div>\n",
       "<style scoped>\n",
       "    .dataframe tbody tr th:only-of-type {\n",
       "        vertical-align: middle;\n",
       "    }\n",
       "\n",
       "    .dataframe tbody tr th {\n",
       "        vertical-align: top;\n",
       "    }\n",
       "\n",
       "    .dataframe thead th {\n",
       "        text-align: right;\n",
       "    }\n",
       "</style>\n",
       "<table border=\"1\" class=\"dataframe\">\n",
       "  <thead>\n",
       "    <tr style=\"text-align: right;\">\n",
       "      <th></th>\n",
       "      <th>name</th>\n",
       "      <th>layout</th>\n",
       "      <th>colors</th>\n",
       "      <th>color_identity</th>\n",
       "      <th>mana_cost</th>\n",
       "      <th>cmc</th>\n",
       "      <th>type_line</th>\n",
       "      <th>card_type</th>\n",
       "      <th>super_type</th>\n",
       "      <th>sub_type</th>\n",
       "      <th>oracle_text</th>\n",
       "      <th>legalities</th>\n",
       "      <th>rarity</th>\n",
       "      <th>edhrec_rank</th>\n",
       "      <th>power</th>\n",
       "      <th>toughness</th>\n",
       "      <th>loyalty</th>\n",
       "      <th>card_faces</th>\n",
       "      <th>oracle_text_back</th>\n",
       "      <th>colors_back</th>\n",
       "      <th>power_back</th>\n",
       "      <th>toughness_back</th>\n",
       "      <th>loyalty_back</th>\n",
       "      <th>card_type_back</th>\n",
       "      <th>mana_cost_back</th>\n",
       "    </tr>\n",
       "  </thead>\n",
       "  <tbody>\n",
       "    <tr>\n",
       "      <td>0</td>\n",
       "      <td>Static Orb</td>\n",
       "      <td>normal</td>\n",
       "      <td>[]</td>\n",
       "      <td>[]</td>\n",
       "      <td>{3}</td>\n",
       "      <td>3.0</td>\n",
       "      <td>Artifact</td>\n",
       "      <td>Artifact</td>\n",
       "      <td>NONE</td>\n",
       "      <td>NONE</td>\n",
       "      <td>as long as static orb is untapped players can'...</td>\n",
       "      <td>legacy vintage commander duel</td>\n",
       "      <td>rare</td>\n",
       "      <td>1660.0</td>\n",
       "      <td>NONE</td>\n",
       "      <td>NONE</td>\n",
       "      <td>NONE</td>\n",
       "      <td>NONE</td>\n",
       "      <td>NONE</td>\n",
       "      <td>NONE</td>\n",
       "      <td>NONE</td>\n",
       "      <td>NONE</td>\n",
       "      <td>NONE</td>\n",
       "      <td>NONE</td>\n",
       "      <td>NONE</td>\n",
       "    </tr>\n",
       "    <tr>\n",
       "      <td>1</td>\n",
       "      <td>Sensory Deprivation</td>\n",
       "      <td>normal</td>\n",
       "      <td>['U']</td>\n",
       "      <td>['U']</td>\n",
       "      <td>{U}</td>\n",
       "      <td>1.0</td>\n",
       "      <td>Enchantment — Aura</td>\n",
       "      <td>Enchantment</td>\n",
       "      <td>NONE</td>\n",
       "      <td>Aura</td>\n",
       "      <td>enchant creatureenchanted creature gets -3/-0</td>\n",
       "      <td>pioneer modern legacy pauper vintage penny com...</td>\n",
       "      <td>common</td>\n",
       "      <td>17172.0</td>\n",
       "      <td>NONE</td>\n",
       "      <td>NONE</td>\n",
       "      <td>NONE</td>\n",
       "      <td>NONE</td>\n",
       "      <td>NONE</td>\n",
       "      <td>NONE</td>\n",
       "      <td>NONE</td>\n",
       "      <td>NONE</td>\n",
       "      <td>NONE</td>\n",
       "      <td>NONE</td>\n",
       "      <td>NONE</td>\n",
       "    </tr>\n",
       "    <tr>\n",
       "      <td>2</td>\n",
       "      <td>Road of Return</td>\n",
       "      <td>normal</td>\n",
       "      <td>['G']</td>\n",
       "      <td>['G']</td>\n",
       "      <td>{G}{G}</td>\n",
       "      <td>2.0</td>\n",
       "      <td>Sorcery</td>\n",
       "      <td>Sorcery</td>\n",
       "      <td>NONE</td>\n",
       "      <td>NONE</td>\n",
       "      <td>choose one return target permanent card from y...</td>\n",
       "      <td>legacy vintage commander duel</td>\n",
       "      <td>rare</td>\n",
       "      <td>5184.0</td>\n",
       "      <td>NONE</td>\n",
       "      <td>NONE</td>\n",
       "      <td>NONE</td>\n",
       "      <td>NONE</td>\n",
       "      <td>NONE</td>\n",
       "      <td>NONE</td>\n",
       "      <td>NONE</td>\n",
       "      <td>NONE</td>\n",
       "      <td>NONE</td>\n",
       "      <td>NONE</td>\n",
       "      <td>NONE</td>\n",
       "    </tr>\n",
       "    <tr>\n",
       "      <td>3</td>\n",
       "      <td>Storm Crow</td>\n",
       "      <td>normal</td>\n",
       "      <td>['U']</td>\n",
       "      <td>['U']</td>\n",
       "      <td>{1}{U}</td>\n",
       "      <td>2.0</td>\n",
       "      <td>Creature — Bird</td>\n",
       "      <td>Creature</td>\n",
       "      <td>NONE</td>\n",
       "      <td>Bird</td>\n",
       "      <td>flying this creature can't be blocked except b...</td>\n",
       "      <td>modern legacy pauper vintage penny commander duel</td>\n",
       "      <td>common</td>\n",
       "      <td>10016.0</td>\n",
       "      <td>1</td>\n",
       "      <td>2</td>\n",
       "      <td>NONE</td>\n",
       "      <td>NONE</td>\n",
       "      <td>NONE</td>\n",
       "      <td>NONE</td>\n",
       "      <td>NONE</td>\n",
       "      <td>NONE</td>\n",
       "      <td>NONE</td>\n",
       "      <td>NONE</td>\n",
       "      <td>NONE</td>\n",
       "    </tr>\n",
       "    <tr>\n",
       "      <td>4</td>\n",
       "      <td>Walking Sponge</td>\n",
       "      <td>normal</td>\n",
       "      <td>['U']</td>\n",
       "      <td>['U']</td>\n",
       "      <td>{1}{U}</td>\n",
       "      <td>2.0</td>\n",
       "      <td>Creature — Sponge</td>\n",
       "      <td>Creature</td>\n",
       "      <td>NONE</td>\n",
       "      <td>Sponge</td>\n",
       "      <td>{t}: target creature loses your choice of flyi...</td>\n",
       "      <td>legacy vintage commander duel</td>\n",
       "      <td>uncommon</td>\n",
       "      <td>15762.0</td>\n",
       "      <td>1</td>\n",
       "      <td>1</td>\n",
       "      <td>NONE</td>\n",
       "      <td>NONE</td>\n",
       "      <td>NONE</td>\n",
       "      <td>NONE</td>\n",
       "      <td>NONE</td>\n",
       "      <td>NONE</td>\n",
       "      <td>NONE</td>\n",
       "      <td>NONE</td>\n",
       "      <td>NONE</td>\n",
       "    </tr>\n",
       "  </tbody>\n",
       "</table>\n",
       "</div>"
      ],
      "text/plain": [
       "                  name  layout colors color_identity mana_cost  cmc  \\\n",
       "0           Static Orb  normal     []             []       {3}  3.0   \n",
       "1  Sensory Deprivation  normal  ['U']          ['U']       {U}  1.0   \n",
       "2       Road of Return  normal  ['G']          ['G']    {G}{G}  2.0   \n",
       "3           Storm Crow  normal  ['U']          ['U']    {1}{U}  2.0   \n",
       "4       Walking Sponge  normal  ['U']          ['U']    {1}{U}  2.0   \n",
       "\n",
       "            type_line    card_type super_type sub_type  \\\n",
       "0            Artifact     Artifact       NONE     NONE   \n",
       "1  Enchantment — Aura  Enchantment       NONE     Aura   \n",
       "2             Sorcery      Sorcery       NONE     NONE   \n",
       "3     Creature — Bird     Creature       NONE     Bird   \n",
       "4   Creature — Sponge     Creature       NONE   Sponge   \n",
       "\n",
       "                                         oracle_text  \\\n",
       "0  as long as static orb is untapped players can'...   \n",
       "1      enchant creatureenchanted creature gets -3/-0   \n",
       "2  choose one return target permanent card from y...   \n",
       "3  flying this creature can't be blocked except b...   \n",
       "4  {t}: target creature loses your choice of flyi...   \n",
       "\n",
       "                                          legalities    rarity  edhrec_rank  \\\n",
       "0                      legacy vintage commander duel      rare       1660.0   \n",
       "1  pioneer modern legacy pauper vintage penny com...    common      17172.0   \n",
       "2                      legacy vintage commander duel      rare       5184.0   \n",
       "3  modern legacy pauper vintage penny commander duel    common      10016.0   \n",
       "4                      legacy vintage commander duel  uncommon      15762.0   \n",
       "\n",
       "  power toughness loyalty card_faces oracle_text_back colors_back power_back  \\\n",
       "0  NONE      NONE    NONE       NONE             NONE        NONE       NONE   \n",
       "1  NONE      NONE    NONE       NONE             NONE        NONE       NONE   \n",
       "2  NONE      NONE    NONE       NONE             NONE        NONE       NONE   \n",
       "3     1         2    NONE       NONE             NONE        NONE       NONE   \n",
       "4     1         1    NONE       NONE             NONE        NONE       NONE   \n",
       "\n",
       "  toughness_back loyalty_back card_type_back mana_cost_back  \n",
       "0           NONE         NONE           NONE           NONE  \n",
       "1           NONE         NONE           NONE           NONE  \n",
       "2           NONE         NONE           NONE           NONE  \n",
       "3           NONE         NONE           NONE           NONE  \n",
       "4           NONE         NONE           NONE           NONE  "
      ]
     },
     "execution_count": 2,
     "metadata": {},
     "output_type": "execute_result"
    }
   ],
   "source": [
    "# read in our card files\n",
    "df = pd.read_csv('../Data/cards_cleaned.csv')\n",
    "df.head()"
   ]
  },
  {
   "cell_type": "code",
   "execution_count": 3,
   "metadata": {},
   "outputs": [
    {
     "data": {
      "text/plain": [
       "name                 0\n",
       "layout               0\n",
       "colors               0\n",
       "color_identity       0\n",
       "mana_cost            0\n",
       "cmc                  0\n",
       "type_line            0\n",
       "card_type            0\n",
       "super_type           0\n",
       "sub_type             0\n",
       "oracle_text          0\n",
       "legalities          16\n",
       "rarity               0\n",
       "edhrec_rank          0\n",
       "power                0\n",
       "toughness            0\n",
       "loyalty              0\n",
       "card_faces           0\n",
       "oracle_text_back     0\n",
       "colors_back          0\n",
       "power_back           0\n",
       "toughness_back       0\n",
       "loyalty_back         0\n",
       "card_type_back       0\n",
       "mana_cost_back       0\n",
       "dtype: int64"
      ]
     },
     "execution_count": 3,
     "metadata": {},
     "output_type": "execute_result"
    }
   ],
   "source": [
    "df.isnull().sum()"
   ]
  },
  {
   "cell_type": "code",
   "execution_count": 4,
   "metadata": {},
   "outputs": [
    {
     "data": {
      "text/plain": [
       "2517938"
      ]
     },
     "execution_count": 4,
     "metadata": {},
     "output_type": "execute_result"
    }
   ],
   "source": [
    "# Let's make a list of all the words in our oracle_text\n",
    "text_list = [text for text in df.loc[df['oracle_text'] != 'NONE']['oracle_text']]\n",
    "text_list += [text for text in df.loc[df['oracle_text_back'] != 'NONE']['oracle_text_back']]\n",
    "\n",
    "all_oracle_text = ' '.join(text_list)\n",
    "\n",
    "len(all_oracle_text)"
   ]
  },
  {
   "cell_type": "code",
   "execution_count": 5,
   "metadata": {},
   "outputs": [],
   "source": [
    "import gensim.downloader as api"
   ]
  },
  {
   "cell_type": "code",
   "execution_count": 6,
   "metadata": {
    "scrolled": true
   },
   "outputs": [],
   "source": [
    "corpus = api.load('text8')"
   ]
  },
  {
   "cell_type": "code",
   "execution_count": 7,
   "metadata": {},
   "outputs": [
    {
     "data": {
      "text/plain": [
       "<generator object Dataset.__iter__ at 0x1a234f9750>"
      ]
     },
     "execution_count": 7,
     "metadata": {},
     "output_type": "execute_result"
    }
   ],
   "source": [
    "iter(corpus)"
   ]
  },
  {
   "cell_type": "code",
   "execution_count": 8,
   "metadata": {},
   "outputs": [
    {
     "data": {
      "text/plain": [
       "['as',\n",
       " 'long',\n",
       " 'as',\n",
       " 'static',\n",
       " 'orb',\n",
       " 'is',\n",
       " 'untapped',\n",
       " 'players',\n",
       " \"can't\",\n",
       " 'untap']"
      ]
     },
     "execution_count": 8,
     "metadata": {},
     "output_type": "execute_result"
    }
   ],
   "source": [
    "all_oracle_text.split()[:10]"
   ]
  },
  {
   "cell_type": "code",
   "execution_count": 9,
   "metadata": {
    "scrolled": false
   },
   "outputs": [
    {
     "name": "stdout",
     "output_type": "stream",
     "text": [
      "['anarchism', 'originated', 'as', 'a', 'term', 'of', 'abuse', 'first', 'used', 'against', 'early', 'working', 'class', 'radicals', 'including', 'the', 'diggers', 'of', 'the', 'english', 'revolution', 'and', 'the', 'sans', 'culottes', 'of', 'the', 'french', 'revolution', 'whilst', 'the', 'term', 'is', 'still', 'used', 'in', 'a', 'pejorative', 'way', 'to', 'describe', 'any', 'act', 'that', 'used', 'violent', 'means', 'to', 'destroy', 'the', 'organization', 'of', 'society', 'it', 'has', 'also', 'been', 'taken', 'up', 'as', 'a', 'positive', 'label', 'by', 'self', 'defined', 'anarchists', 'the', 'word', 'anarchism', 'is', 'derived', 'from', 'the', 'greek', 'without', 'archons', 'ruler', 'chief', 'king', 'anarchism', 'as', 'a', 'political', 'philosophy', 'is', 'the', 'belief', 'that', 'rulers', 'are', 'unnecessary', 'and', 'should', 'be', 'abolished', 'although', 'there', 'are', 'differing']\n"
     ]
    }
   ],
   "source": [
    "print(next(iter(corpus))[:100])"
   ]
  },
  {
   "cell_type": "code",
   "execution_count": 10,
   "metadata": {},
   "outputs": [
    {
     "data": {
      "text/plain": [
       "<gensim.models.word2vec.Word2Vec at 0x1a234f0c50>"
      ]
     },
     "execution_count": 10,
     "metadata": {},
     "output_type": "execute_result"
    }
   ],
   "source": [
    "from gensim.models.word2vec import Word2Vec\n",
    "Word2Vec()"
   ]
  },
  {
   "cell_type": "code",
   "execution_count": 11,
   "metadata": {},
   "outputs": [],
   "source": [
    "# Import Word2Vec\n",
    "from gensim.models.word2vec import Word2Vec\n",
    "\n",
    "# # If you want to use gensim's data, import their downloader\n",
    "# # and load it.\n",
    "# import gensim.downloader as api\n",
    "# corpus = api.load('text8')\n",
    "\n",
    "# If you have your own iterable corpus of cleaned data, you can \n",
    "# read it in as corpus and pass that in.\n",
    "\n",
    "# Train a model! \n",
    "model = Word2Vec([all_oracle_text.split()],      # Corpus of data.\n",
    "                 size=100,    # How many dimensions do you want in your word vector?\n",
    "                 window=5,    # How many \"context words\" do you want?\n",
    "                 min_count=1, # Ignores words below this threshold.\n",
    "                 sg=0,        # SG = 1 uses SkipGram, SG = 0 uses CBOW (default).\n",
    "                 workers=4)   # Number of \"worker threads\" to use (parallelizes process)."
   ]
  },
  {
   "cell_type": "code",
   "execution_count": 12,
   "metadata": {},
   "outputs": [
    {
     "name": "stderr",
     "output_type": "stream",
     "text": [
      "/Users/Creighton/anaconda3/lib/python3.7/site-packages/ipykernel_launcher.py:2: DeprecationWarning: Call to deprecated `most_similar` (Method will be removed in 4.0.0, use self.wv.most_similar() instead).\n",
      "  \n"
     ]
    },
    {
     "data": {
      "text/plain": [
       "[('when', 0.9999192953109741),\n",
       " ('or', 0.9999061822891235),\n",
       " ('creature', 0.9999059438705444),\n",
       " ('you', 0.9999004602432251),\n",
       " ('and', 0.9998999238014221),\n",
       " ('create', 0.9998994469642639),\n",
       " ('an', 0.9998980760574341),\n",
       " ('{t}:', 0.9998965263366699),\n",
       " ('the', 0.99989253282547),\n",
       " ('a', 0.9998922944068909)]"
      ]
     },
     "execution_count": 12,
     "metadata": {},
     "output_type": "execute_result"
    }
   ],
   "source": [
    "# Do what you'd like to do with your dataa!\n",
    "model.most_similar(\"target\")"
   ]
  },
  {
   "cell_type": "code",
   "execution_count": 13,
   "metadata": {
    "scrolled": false
   },
   "outputs": [
    {
     "name": "stderr",
     "output_type": "stream",
     "text": [
      "/Users/Creighton/anaconda3/lib/python3.7/site-packages/ipykernel_launcher.py:1: DeprecationWarning: Call to deprecated `__getitem__` (Method will be removed in 4.0.0, use self.wv.__getitem__() instead).\n",
      "  \"\"\"Entry point for launching an IPython kernel.\n"
     ]
    },
    {
     "data": {
      "text/plain": [
       "array([-7.64291167e-01,  1.09619536e-01,  1.31526485e-01,  7.75637865e-01,\n",
       "       -2.94463277e-01,  4.98481020e-02,  7.99924791e-01, -6.29162043e-02,\n",
       "       -3.09405148e-01,  6.13556683e-01, -3.03734481e-01,  1.16898008e-01,\n",
       "        1.27129316e-01, -1.94684356e-01,  1.74577668e-01,  2.16631830e-01,\n",
       "       -1.20956205e-01,  1.83368117e-01,  1.76627249e-01,  6.67207420e-01,\n",
       "        1.86459929e-01, -1.70099333e-01,  6.07492700e-02,  2.15013530e-02,\n",
       "        8.07961673e-02,  1.19495280e-01, -8.75089243e-02,  2.56813228e-01,\n",
       "        6.47187591e-01,  2.01004803e-01,  3.15903872e-01,  1.59206241e-02,\n",
       "       -2.39657966e-04,  2.81567037e-01, -3.04256707e-01,  1.59774482e-01,\n",
       "        2.86358029e-01,  2.97388911e-01, -3.36614579e-01,  3.75639379e-01,\n",
       "       -1.89142108e-01, -2.82462806e-01,  7.26493895e-02,  2.72799969e-01,\n",
       "        1.04061596e-01,  5.53077638e-01, -3.50182384e-01, -1.65349439e-01,\n",
       "        1.83457330e-01, -1.94742337e-01,  5.21933697e-02, -8.84974655e-03,\n",
       "       -1.45818889e-01,  1.17480889e-01,  2.11338028e-01, -1.46868110e-01,\n",
       "        5.61673827e-02, -2.45918989e-01,  3.60517502e-01,  1.90157741e-02,\n",
       "        1.77374795e-01, -2.02291533e-01, -3.20414873e-03,  1.16179347e-01,\n",
       "       -6.17141798e-02,  1.18580677e-01, -2.90534049e-01, -4.53384817e-01,\n",
       "        4.80537087e-01,  1.87634066e-01,  7.16590956e-02,  2.56676972e-01,\n",
       "       -5.63895069e-02, -1.64473921e-01, -3.90778989e-01,  1.84955627e-01,\n",
       "       -6.75865784e-02, -3.10451329e-01,  7.60895908e-02, -1.67682528e-01,\n",
       "       -1.23992279e-01, -6.76926300e-02, -4.87067625e-02, -2.65629262e-01,\n",
       "       -3.35649811e-02, -4.00459468e-01, -3.99662763e-01,  1.03824837e-02,\n",
       "        3.84232312e-01,  2.51240153e-02,  6.82074428e-01, -5.89587808e-01,\n",
       "        8.06703269e-01,  1.96170464e-01,  1.17448330e-01,  1.05287895e-01,\n",
       "       -6.00379825e-01, -2.38300666e-01, -4.54273283e-01,  1.93623900e-01],\n",
       "      dtype=float32)"
      ]
     },
     "execution_count": 13,
     "metadata": {},
     "output_type": "execute_result"
    }
   ],
   "source": [
    "model['target']"
   ]
  },
  {
   "cell_type": "code",
   "execution_count": 14,
   "metadata": {},
   "outputs": [
    {
     "data": {
      "text/plain": [
       "<gensim.models.word2vec.Word2VecVocab at 0x1a25ce4320>"
      ]
     },
     "execution_count": 14,
     "metadata": {},
     "output_type": "execute_result"
    }
   ],
   "source": [
    "model.vocabulary"
   ]
  },
  {
   "cell_type": "code",
   "execution_count": 15,
   "metadata": {},
   "outputs": [
    {
     "name": "stderr",
     "output_type": "stream",
     "text": [
      "/Users/Creighton/anaconda3/lib/python3.7/site-packages/ipykernel_launcher.py:2: DeprecationWarning: Call to deprecated `__getitem__` (Method will be removed in 4.0.0, use self.wv.__getitem__() instead).\n",
      "  \n"
     ]
    }
   ],
   "source": [
    "# now let's get a list of the vectors for each word in our oracle text\n",
    "word_vec = [model[word] for word in all_oracle_text.split()]"
   ]
  },
  {
   "cell_type": "code",
   "execution_count": 16,
   "metadata": {
    "scrolled": true
   },
   "outputs": [
    {
     "data": {
      "text/html": [
       "<div>\n",
       "<style scoped>\n",
       "    .dataframe tbody tr th:only-of-type {\n",
       "        vertical-align: middle;\n",
       "    }\n",
       "\n",
       "    .dataframe tbody tr th {\n",
       "        vertical-align: top;\n",
       "    }\n",
       "\n",
       "    .dataframe thead th {\n",
       "        text-align: right;\n",
       "    }\n",
       "</style>\n",
       "<table border=\"1\" class=\"dataframe\">\n",
       "  <thead>\n",
       "    <tr style=\"text-align: right;\">\n",
       "      <th></th>\n",
       "      <th>0</th>\n",
       "      <th>1</th>\n",
       "      <th>2</th>\n",
       "      <th>3</th>\n",
       "      <th>4</th>\n",
       "      <th>5</th>\n",
       "      <th>6</th>\n",
       "      <th>7</th>\n",
       "      <th>8</th>\n",
       "      <th>9</th>\n",
       "      <th>10</th>\n",
       "      <th>11</th>\n",
       "      <th>12</th>\n",
       "      <th>13</th>\n",
       "      <th>14</th>\n",
       "      <th>15</th>\n",
       "      <th>16</th>\n",
       "      <th>...</th>\n",
       "      <th>83</th>\n",
       "      <th>84</th>\n",
       "      <th>85</th>\n",
       "      <th>86</th>\n",
       "      <th>87</th>\n",
       "      <th>88</th>\n",
       "      <th>89</th>\n",
       "      <th>90</th>\n",
       "      <th>91</th>\n",
       "      <th>92</th>\n",
       "      <th>93</th>\n",
       "      <th>94</th>\n",
       "      <th>95</th>\n",
       "      <th>96</th>\n",
       "      <th>97</th>\n",
       "      <th>98</th>\n",
       "      <th>99</th>\n",
       "    </tr>\n",
       "  </thead>\n",
       "  <tbody>\n",
       "    <tr>\n",
       "      <td>as</td>\n",
       "      <td>-0.712666</td>\n",
       "      <td>0.105894</td>\n",
       "      <td>0.118074</td>\n",
       "      <td>0.716828</td>\n",
       "      <td>-0.276016</td>\n",
       "      <td>0.051537</td>\n",
       "      <td>0.733176</td>\n",
       "      <td>-0.058576</td>\n",
       "      <td>-0.286623</td>\n",
       "      <td>0.578248</td>\n",
       "      <td>-0.283437</td>\n",
       "      <td>0.109298</td>\n",
       "      <td>0.124019</td>\n",
       "      <td>-0.182645</td>\n",
       "      <td>0.151869</td>\n",
       "      <td>0.205625</td>\n",
       "      <td>-0.117071</td>\n",
       "      <td>...</td>\n",
       "      <td>-0.249985</td>\n",
       "      <td>-0.031635</td>\n",
       "      <td>-0.381112</td>\n",
       "      <td>-0.362901</td>\n",
       "      <td>0.017250</td>\n",
       "      <td>0.353409</td>\n",
       "      <td>0.022426</td>\n",
       "      <td>0.637273</td>\n",
       "      <td>-0.546158</td>\n",
       "      <td>0.752871</td>\n",
       "      <td>0.185273</td>\n",
       "      <td>0.101595</td>\n",
       "      <td>0.106143</td>\n",
       "      <td>-0.557166</td>\n",
       "      <td>-0.220504</td>\n",
       "      <td>-0.412907</td>\n",
       "      <td>0.172609</td>\n",
       "    </tr>\n",
       "    <tr>\n",
       "      <td>long</td>\n",
       "      <td>-0.543973</td>\n",
       "      <td>0.072384</td>\n",
       "      <td>0.088101</td>\n",
       "      <td>0.550097</td>\n",
       "      <td>-0.200218</td>\n",
       "      <td>0.037154</td>\n",
       "      <td>0.564150</td>\n",
       "      <td>-0.046289</td>\n",
       "      <td>-0.219879</td>\n",
       "      <td>0.439153</td>\n",
       "      <td>-0.206775</td>\n",
       "      <td>0.082577</td>\n",
       "      <td>0.093084</td>\n",
       "      <td>-0.139129</td>\n",
       "      <td>0.123793</td>\n",
       "      <td>0.156807</td>\n",
       "      <td>-0.085480</td>\n",
       "      <td>...</td>\n",
       "      <td>-0.191412</td>\n",
       "      <td>-0.028843</td>\n",
       "      <td>-0.290480</td>\n",
       "      <td>-0.274328</td>\n",
       "      <td>0.008648</td>\n",
       "      <td>0.273312</td>\n",
       "      <td>0.014000</td>\n",
       "      <td>0.487628</td>\n",
       "      <td>-0.412857</td>\n",
       "      <td>0.575574</td>\n",
       "      <td>0.143477</td>\n",
       "      <td>0.084284</td>\n",
       "      <td>0.072474</td>\n",
       "      <td>-0.428785</td>\n",
       "      <td>-0.165880</td>\n",
       "      <td>-0.322704</td>\n",
       "      <td>0.128638</td>\n",
       "    </tr>\n",
       "    <tr>\n",
       "      <td>static</td>\n",
       "      <td>-0.026204</td>\n",
       "      <td>0.003002</td>\n",
       "      <td>0.000864</td>\n",
       "      <td>0.021676</td>\n",
       "      <td>-0.007224</td>\n",
       "      <td>0.005521</td>\n",
       "      <td>0.028247</td>\n",
       "      <td>-0.002364</td>\n",
       "      <td>-0.007170</td>\n",
       "      <td>0.022124</td>\n",
       "      <td>-0.006481</td>\n",
       "      <td>0.007626</td>\n",
       "      <td>0.005474</td>\n",
       "      <td>-0.010011</td>\n",
       "      <td>0.004657</td>\n",
       "      <td>0.008159</td>\n",
       "      <td>-0.007357</td>\n",
       "      <td>...</td>\n",
       "      <td>-0.013565</td>\n",
       "      <td>-0.003836</td>\n",
       "      <td>-0.011565</td>\n",
       "      <td>-0.008142</td>\n",
       "      <td>0.001608</td>\n",
       "      <td>0.009687</td>\n",
       "      <td>-0.000084</td>\n",
       "      <td>0.022031</td>\n",
       "      <td>-0.022348</td>\n",
       "      <td>0.027601</td>\n",
       "      <td>0.009174</td>\n",
       "      <td>0.008763</td>\n",
       "      <td>0.006268</td>\n",
       "      <td>-0.015685</td>\n",
       "      <td>-0.011126</td>\n",
       "      <td>-0.015540</td>\n",
       "      <td>0.009187</td>\n",
       "    </tr>\n",
       "    <tr>\n",
       "      <td>orb</td>\n",
       "      <td>-0.017982</td>\n",
       "      <td>0.007328</td>\n",
       "      <td>0.005021</td>\n",
       "      <td>0.024109</td>\n",
       "      <td>-0.006651</td>\n",
       "      <td>0.001299</td>\n",
       "      <td>0.023010</td>\n",
       "      <td>0.001417</td>\n",
       "      <td>-0.010873</td>\n",
       "      <td>0.016292</td>\n",
       "      <td>-0.012773</td>\n",
       "      <td>0.007572</td>\n",
       "      <td>-0.000884</td>\n",
       "      <td>-0.001782</td>\n",
       "      <td>0.003472</td>\n",
       "      <td>0.001712</td>\n",
       "      <td>0.000420</td>\n",
       "      <td>...</td>\n",
       "      <td>-0.007577</td>\n",
       "      <td>-0.003470</td>\n",
       "      <td>-0.014577</td>\n",
       "      <td>-0.012628</td>\n",
       "      <td>-0.002770</td>\n",
       "      <td>0.015727</td>\n",
       "      <td>-0.003447</td>\n",
       "      <td>0.016725</td>\n",
       "      <td>-0.019196</td>\n",
       "      <td>0.021136</td>\n",
       "      <td>0.008865</td>\n",
       "      <td>0.002437</td>\n",
       "      <td>-0.001518</td>\n",
       "      <td>-0.018682</td>\n",
       "      <td>-0.005439</td>\n",
       "      <td>-0.017565</td>\n",
       "      <td>0.007386</td>\n",
       "    </tr>\n",
       "    <tr>\n",
       "      <td>is</td>\n",
       "      <td>-0.729166</td>\n",
       "      <td>0.109495</td>\n",
       "      <td>0.126977</td>\n",
       "      <td>0.736984</td>\n",
       "      <td>-0.281400</td>\n",
       "      <td>0.047449</td>\n",
       "      <td>0.760224</td>\n",
       "      <td>-0.064757</td>\n",
       "      <td>-0.289541</td>\n",
       "      <td>0.589999</td>\n",
       "      <td>-0.288252</td>\n",
       "      <td>0.106949</td>\n",
       "      <td>0.124344</td>\n",
       "      <td>-0.185384</td>\n",
       "      <td>0.161635</td>\n",
       "      <td>0.202190</td>\n",
       "      <td>-0.112565</td>\n",
       "      <td>...</td>\n",
       "      <td>-0.246772</td>\n",
       "      <td>-0.040629</td>\n",
       "      <td>-0.383683</td>\n",
       "      <td>-0.372151</td>\n",
       "      <td>0.007313</td>\n",
       "      <td>0.357307</td>\n",
       "      <td>0.025711</td>\n",
       "      <td>0.645717</td>\n",
       "      <td>-0.558204</td>\n",
       "      <td>0.768484</td>\n",
       "      <td>0.187779</td>\n",
       "      <td>0.110246</td>\n",
       "      <td>0.106621</td>\n",
       "      <td>-0.565040</td>\n",
       "      <td>-0.224004</td>\n",
       "      <td>-0.426406</td>\n",
       "      <td>0.181875</td>\n",
       "    </tr>\n",
       "  </tbody>\n",
       "</table>\n",
       "<p>5 rows × 100 columns</p>\n",
       "</div>"
      ],
      "text/plain": [
       "              0         1         2         3         4         5         6   \\\n",
       "as     -0.712666  0.105894  0.118074  0.716828 -0.276016  0.051537  0.733176   \n",
       "long   -0.543973  0.072384  0.088101  0.550097 -0.200218  0.037154  0.564150   \n",
       "static -0.026204  0.003002  0.000864  0.021676 -0.007224  0.005521  0.028247   \n",
       "orb    -0.017982  0.007328  0.005021  0.024109 -0.006651  0.001299  0.023010   \n",
       "is     -0.729166  0.109495  0.126977  0.736984 -0.281400  0.047449  0.760224   \n",
       "\n",
       "              7         8         9         10        11        12        13  \\\n",
       "as     -0.058576 -0.286623  0.578248 -0.283437  0.109298  0.124019 -0.182645   \n",
       "long   -0.046289 -0.219879  0.439153 -0.206775  0.082577  0.093084 -0.139129   \n",
       "static -0.002364 -0.007170  0.022124 -0.006481  0.007626  0.005474 -0.010011   \n",
       "orb     0.001417 -0.010873  0.016292 -0.012773  0.007572 -0.000884 -0.001782   \n",
       "is     -0.064757 -0.289541  0.589999 -0.288252  0.106949  0.124344 -0.185384   \n",
       "\n",
       "              14        15        16  ...        83        84        85  \\\n",
       "as      0.151869  0.205625 -0.117071  ... -0.249985 -0.031635 -0.381112   \n",
       "long    0.123793  0.156807 -0.085480  ... -0.191412 -0.028843 -0.290480   \n",
       "static  0.004657  0.008159 -0.007357  ... -0.013565 -0.003836 -0.011565   \n",
       "orb     0.003472  0.001712  0.000420  ... -0.007577 -0.003470 -0.014577   \n",
       "is      0.161635  0.202190 -0.112565  ... -0.246772 -0.040629 -0.383683   \n",
       "\n",
       "              86        87        88        89        90        91        92  \\\n",
       "as     -0.362901  0.017250  0.353409  0.022426  0.637273 -0.546158  0.752871   \n",
       "long   -0.274328  0.008648  0.273312  0.014000  0.487628 -0.412857  0.575574   \n",
       "static -0.008142  0.001608  0.009687 -0.000084  0.022031 -0.022348  0.027601   \n",
       "orb    -0.012628 -0.002770  0.015727 -0.003447  0.016725 -0.019196  0.021136   \n",
       "is     -0.372151  0.007313  0.357307  0.025711  0.645717 -0.558204  0.768484   \n",
       "\n",
       "              93        94        95        96        97        98        99  \n",
       "as      0.185273  0.101595  0.106143 -0.557166 -0.220504 -0.412907  0.172609  \n",
       "long    0.143477  0.084284  0.072474 -0.428785 -0.165880 -0.322704  0.128638  \n",
       "static  0.009174  0.008763  0.006268 -0.015685 -0.011126 -0.015540  0.009187  \n",
       "orb     0.008865  0.002437 -0.001518 -0.018682 -0.005439 -0.017565  0.007386  \n",
       "is      0.187779  0.110246  0.106621 -0.565040 -0.224004 -0.426406  0.181875  \n",
       "\n",
       "[5 rows x 100 columns]"
      ]
     },
     "execution_count": 16,
     "metadata": {},
     "output_type": "execute_result"
    }
   ],
   "source": [
    "# now let's make a dataframe for our oracle text words and their corresponding vectors\n",
    "w2vdf = pd.DataFrame.from_dict(dict(zip(all_oracle_text.split(), word_vec))).T\n",
    "w2vdf.head()"
   ]
  },
  {
   "cell_type": "code",
   "execution_count": 17,
   "metadata": {},
   "outputs": [
    {
     "data": {
      "text/plain": [
       "(11485, 100)"
      ]
     },
     "execution_count": 17,
     "metadata": {},
     "output_type": "execute_result"
    }
   ],
   "source": [
    "w2vdf.shape"
   ]
  },
  {
   "cell_type": "code",
   "execution_count": null,
   "metadata": {},
   "outputs": [],
   "source": [
    "t0 = time.time()\n",
    "\n",
    "# Initialize t-SNE\n",
    "tsne = TSNE(random_state = 42, perplexity = 400, n_iter=1000)\n",
    "\n",
    "tsne_df = tsne.fit_transform(w2vdf)\n",
    "\n",
    "print((time.time() - t0)/60)"
   ]
  },
  {
   "cell_type": "code",
   "execution_count": null,
   "metadata": {},
   "outputs": [],
   "source": [
    "sns.set()\n",
    "# Initialize figure\n",
    "fig, ax = plt.subplots(figsize = (15, 15))\n",
    "sns.scatterplot(tsne_df[:, 0], tsne_df[:, 1], alpha = 0.5)\n",
    "\n",
    "# initialize list of texts\n",
    "texts = []\n",
    "words_to_plot = list(np.arange(1, 11485, 250))\n",
    "\n",
    "# Append words to list\n",
    "for word in words_to_plot:\n",
    "    texts.append(plt.text(tsne_df[word, 0], tsne_df[word, 1], w2vdf.index[word], fontsize = 14))\n",
    "    "
   ]
  },
  {
   "cell_type": "code",
   "execution_count": null,
   "metadata": {},
   "outputs": [],
   "source": []
  }
 ],
 "metadata": {
  "kernelspec": {
   "display_name": "Python 3",
   "language": "python",
   "name": "python3"
  },
  "language_info": {
   "codemirror_mode": {
    "name": "ipython",
    "version": 3
   },
   "file_extension": ".py",
   "mimetype": "text/x-python",
   "name": "python",
   "nbconvert_exporter": "python",
   "pygments_lexer": "ipython3",
   "version": "3.7.3"
  }
 },
 "nbformat": 4,
 "nbformat_minor": 2
}
